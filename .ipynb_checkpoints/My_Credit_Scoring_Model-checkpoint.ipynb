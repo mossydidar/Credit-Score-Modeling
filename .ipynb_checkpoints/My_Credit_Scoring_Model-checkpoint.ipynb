{
 "cells": [
  {
   "cell_type": "markdown",
   "metadata": {
    "_cell_guid": "5250962e-8d89-486e-a353-5406f9b5d8e9",
    "_uuid": "1e7821ad80b7859f1ab6a0b44a636ed57759fd2b"
   },
   "source": [
    "# Credit scoring model\n"
   ]
  },
  {
   "cell_type": "code",
   "execution_count": null,
   "metadata": {
    "_cell_guid": "92fe9a80-e04a-44cd-83e1-a637d8ef370e",
    "_uuid": "0b877b61b35f533f719def824c30ad0583f92c76",
    "collapsed": true
   },
   "outputs": [],
   "source": [
    "import pandas as pd\n",
    "import numpy as np\n",
    "import matplotlib.pyplot as plt\n",
    "import itertools\n",
    "from sklearn.metrics import confusion_matrix\n",
    "\n",
    "# importing necessary libraries"
   ]
  },
  {
   "cell_type": "code",
   "execution_count": null,
   "metadata": {
    "_cell_guid": "2d9c866b-b9de-4da3-a050-34607187d0a8",
    "_uuid": "34799a08532b29ff15ef1fff66f2134a1f61591e",
    "collapsed": true
   },
   "outputs": [],
   "source": [
    "df = pd.read_csv(\"../input/hmeq.csv\")\n",
    "df_i = pd.read_csv(\"../input/hmeq.csv\")\n",
    "\n",
    "# reading the input\n",
    "# Storing it in 2 dataframes, We will carry out our operations on df.In case of need for initial table without any changes we can use df_i"
   ]
  },
  {
   "cell_type": "code",
   "execution_count": null,
   "metadata": {
    "_cell_guid": "e2a3e872-e4f0-4fa7-8a17-111e06f22025",
    "_uuid": "894c0777495622b8882b043c12bd7f1f1eab7a99",
    "collapsed": true
   },
   "outputs": [],
   "source": [
    "df.head()\n",
    "\n",
    "# glimpse of the dataset"
   ]
  },
  {
   "cell_type": "markdown",
   "metadata": {
    "_cell_guid": "59b09832-2cc6-4088-bf22-28f0e444162b",
    "_uuid": "2cb62c8a3c6b0fe3a15ba8aba6d5cf6a10f24fa2"
   },
   "source": [
    "# Understanding the data"
   ]
  },
  {
   "cell_type": "code",
   "execution_count": null,
   "metadata": {
    "_cell_guid": "7306478c-d2ee-4194-9adb-3488ae0f6ef1",
    "_uuid": "cc8280608505d75ae00163141523a0a6dbb3940d",
    "collapsed": true
   },
   "outputs": [],
   "source": [
    "df.shape"
   ]
  },
  {
   "cell_type": "code",
   "execution_count": null,
   "metadata": {
    "_cell_guid": "03fb1e37-3711-4df3-b307-de3ecdac1353",
    "_uuid": "40b43ea3844352865291d8af1a5a82e55989a471",
    "collapsed": true
   },
   "outputs": [],
   "source": [
    "df.info()\n",
    "\n",
    "# number of entries that are not Nan"
   ]
  },
  {
   "cell_type": "code",
   "execution_count": null,
   "metadata": {
    "_cell_guid": "b011a359-ec79-449e-b53e-b57ad67102e6",
    "_uuid": "ee15c1170eae275a0bebd73d2a01072457b2fd29",
    "collapsed": true
   },
   "outputs": [],
   "source": [
    "df.describe()\n",
    "\n",
    "# Descriptive stats\n",
    "# Distribution of the data\n",
    "# There are no anomalies in the data(observe the maximums and means in each case)"
   ]
  },
  {
   "cell_type": "code",
   "execution_count": null,
   "metadata": {
    "_cell_guid": "14ef58d2-6c5a-49ea-9556-7aa570b2fdad",
    "_uuid": "fd478b03b804200a416bd3502c655ac195639609",
    "collapsed": true
   },
   "outputs": [],
   "source": [
    "df.columns\n",
    "\n",
    "# Columns of the dataset"
   ]
  },
  {
   "cell_type": "markdown",
   "metadata": {
    "_cell_guid": "f7756abc-fefa-4474-866c-df869817e956",
    "_uuid": "27eabd1708aba64fe12414d8bcd5deef30470378"
   },
   "source": [
    "## Distributions of various variables"
   ]
  },
  {
   "cell_type": "code",
   "execution_count": null,
   "metadata": {
    "_cell_guid": "49dde92a-f600-43b3-99cf-f02aac905689",
    "_uuid": "7f7c90724a3e57dd4105520ef47de65e43368645",
    "collapsed": true
   },
   "outputs": [],
   "source": [
    "print(df[\"BAD\"].value_counts())\n",
    "df[\"BAD\"].value_counts().plot(\"barh\")\n",
    "\n",
    "# distribution of target variable \"BAD\"\n",
    "# The target class is a bit unbalanced - zeroes are about 80% and ones are about 20%"
   ]
  },
  {
   "cell_type": "code",
   "execution_count": null,
   "metadata": {
    "_cell_guid": "c5627a89-053d-4082-83b6-302aac96aea4",
    "_uuid": "b1ea298c1315424029509d8f85ca0452d3f256ab",
    "collapsed": true
   },
   "outputs": [],
   "source": [
    "print(df[\"REASON\"].value_counts())\n",
    "\n",
    "# This is a nominal feature, It must be modified in a way we can use it."
   ]
  },
  {
   "cell_type": "code",
   "execution_count": null,
   "metadata": {
    "_cell_guid": "0db7a298-7357-4dc3-9abb-98b330cd9f2b",
    "_uuid": "5e59cbab8100044beb6cda90efdbcb2d7fa2490e",
    "collapsed": true
   },
   "outputs": [],
   "source": [
    "print(df[\"JOB\"].value_counts())\n",
    "\n",
    "# Same as the above case, we must find a way to use it."
   ]
  },
  {
   "cell_type": "code",
   "execution_count": null,
   "metadata": {
    "_cell_guid": "b936c067-465b-4228-bd62-c4f97a0cd805",
    "_uuid": "768df95096939dde03de17887472876cd1fa0c97",
    "collapsed": true
   },
   "outputs": [],
   "source": [
    "df[\"LOAN\"].plot.hist(bins = 20,figsize=(15,7.5))\n",
    "\n",
    "# distribution of loan variable\n",
    "# density between 10000-30000 is high"
   ]
  },
  {
   "cell_type": "code",
   "execution_count": null,
   "metadata": {
    "_cell_guid": "17fc307a-7077-4135-87b5-c306c9242f2f",
    "_uuid": "415cfb6ff40b6907872ccdfbab6fc2e3df393438",
    "collapsed": true
   },
   "outputs": [],
   "source": [
    "df[\"DEBTINC\"].plot.hist(bins = 20,figsize=(15,5))\n",
    " \n",
    "# Highly populated around 25-50\n",
    "# We may cap off the end values if required."
   ]
  },
  {
   "cell_type": "code",
   "execution_count": null,
   "metadata": {
    "_cell_guid": "c02ade06-82be-408e-bf66-ae638dbd3eb2",
    "_uuid": "1d277ca76a0fda460b709232911fc2bdf43dab7c",
    "collapsed": true
   },
   "outputs": [],
   "source": [
    "df[\"CLAGE\"].plot.hist(bins = 20,figsize=(15,7.5))\n",
    "\n",
    "# Density is high around 100-300\n",
    "# We can cap off the values >= 600 to get better results"
   ]
  },
  {
   "cell_type": "code",
   "execution_count": null,
   "metadata": {
    "_cell_guid": "47cf3519-6222-47b1-a79c-8859cc649469",
    "_uuid": "83bf7d2f8009138e4c88292c74f953786b4f3a18",
    "collapsed": true
   },
   "outputs": [],
   "source": [
    "df[\"CLNO\"].plot.hist(bins = 20,figsize=(15,5))\n",
    "\n",
    "# This distribution looks good and we need not modify anything here."
   ]
  },
  {
   "cell_type": "code",
   "execution_count": null,
   "metadata": {
    "_cell_guid": "c3d5cf36-5559-4935-8670-521234e8c57f",
    "_uuid": "01d7d5e95f97199f051bb25aa376e7690a5c9efc",
    "collapsed": true
   },
   "outputs": [],
   "source": [
    "df[\"VALUE\"].plot.hist(bins = 80,figsize=(15,7.5))\n",
    "\n",
    "# Concentration is high around 80000-100000\n",
    "# There are very less values at the end(>= 400000) that are a bit high compared to mean. We can cap these off."
   ]
  },
  {
   "cell_type": "code",
   "execution_count": null,
   "metadata": {
    "_cell_guid": "9b4b4aff-09cd-4973-b4a9-64908f80cbee",
    "_uuid": "4184e791dc9c2b79738caeb1de97537a9a9b6358",
    "collapsed": true
   },
   "outputs": [],
   "source": [
    "df[\"MORTDUE\"].plot.hist(bins = 40,figsize=(15,7.5))\n",
    "\n",
    "# Concentration is high around 40000-100000\n",
    "# The values at the end(>= 300000) can be capped off."
   ]
  },
  {
   "cell_type": "code",
   "execution_count": null,
   "metadata": {
    "_cell_guid": "640703a9-bf59-49b5-952b-63fa9271cb07",
    "_uuid": "3bdf96b470655adb6519811622c044a3da88fa3e",
    "collapsed": true
   },
   "outputs": [],
   "source": [
    "df[\"YOJ\"].plot.hist(bins = 40,figsize=(15,7.5))\n",
    "\n",
    "# This is very skewed. It would be better if we modify this variable to decrease the skewness."
   ]
  },
  {
   "cell_type": "code",
   "execution_count": null,
   "metadata": {
    "_cell_guid": "ff0830b3-6518-49fc-8604-7017f5dd86f6",
    "_uuid": "4de134a79012663247470776227ff82c70399cd3",
    "collapsed": true
   },
   "outputs": [],
   "source": [
    "df[\"DEROG\"].value_counts()\n",
    "\n",
    "# Derogatory incidents were reported only in few cases.\n",
    "# So,creating a binary variable with values 1 for atleast one derogatory incident and 0 for no such report may be useful."
   ]
  },
  {
   "cell_type": "code",
   "execution_count": null,
   "metadata": {
    "_cell_guid": "1de12f81-0f42-401b-a6a6-9da98ef89082",
    "_uuid": "373c8c9e48071418bffa7179ec6e65d93f6a957b",
    "collapsed": true
   },
   "outputs": [],
   "source": [
    "df[\"DELINQ\"].value_counts()\n",
    "\n",
    "# Most of them are zero.\n",
    "# Same as in above case creating a binary variable would be useful."
   ]
  },
  {
   "cell_type": "code",
   "execution_count": null,
   "metadata": {
    "_cell_guid": "4152e509-3230-4ea3-b1b4-dc90a95ee71d",
    "_uuid": "5d59237ba3eb5c946edf850eac9f37598adb34b3",
    "collapsed": true
   },
   "outputs": [],
   "source": [
    "df[\"NINQ\"].value_counts()\n",
    "\n",
    "# Distributed mostly among first five values"
   ]
  },
  {
   "cell_type": "markdown",
   "metadata": {
    "_cell_guid": "edcfd441-f458-4b83-833d-6d2a0a3c2c0e",
    "_uuid": "1c029e6aee41bbde2ebe65b0b78b35ed395a2117"
   },
   "source": [
    "#### Conclusions :\n",
    "\n",
    "- The distributions are fine and there are no anomalies in the data.\n",
    "<br>\n",
    "- DEBTINC has very high number of missing data(will be taken care of in next section - Imputing the variables).\n",
    "<br>\n",
    "- The feature YOJ is highly skewed and may be modified to decrease skewness.\n",
    "<br>\n",
    "- Nominal features : JOB and REASON must be modified in a way that we can use them for logistic regression model.\n",
    "<br>\n",
    "- DELINQ,DEROG may be divided into 2 classes to create new binary variables.\n",
    "<br>\n",
    "- VALUE,MORTDUE,CLAGE,DEBTINC may be capped off at the end that is values that are very high will be set to a selected lower value.\n",
    "-------------------------------------------------------------------------------------------------------------------------------"
   ]
  },
  {
   "cell_type": "markdown",
   "metadata": {
    "_cell_guid": "cf2bdeea-3e64-4ef1-9c50-2d113cca4159",
    "_uuid": "e3c04699a58e036f518ef0f2f1b7ab06e4241d18"
   },
   "source": [
    "# Imputing the input variables\n",
    "<br>"
   ]
  },
  {
   "cell_type": "code",
   "execution_count": null,
   "metadata": {
    "_cell_guid": "cb3a019e-a772-49f1-b643-7404389bd9b9",
    "_uuid": "9324154cd3639dd508bf07bd19d98d95b2a43b40",
    "collapsed": true
   },
   "outputs": [],
   "source": [
    "df.isnull().sum()\n",
    "\n",
    "# Number of cases with Nan."
   ]
  },
  {
   "cell_type": "markdown",
   "metadata": {
    "_cell_guid": "db63a170-fc07-4c4b-bace-0f695bf0d1d9",
    "_uuid": "42a90c310b09cf665c7f8e78fa3d730cebaf714e"
   },
   "source": [
    "#### Observations :\n",
    "- Except in the case of DEBTINC, in all other cases only few values were not reported\n",
    "- For imputing the missing values we can think of few ideas like :\n",
    "    - In case of nominal features, replacing them with the majority class\n",
    "    - In case of numeric variables like DEROG and DELINQ,most of the cases are 0.We can replace these with majority class.\n",
    "    - In case of other numerical inputs , we can replace them by median or mean without modifying the much.In this   notebook I am going to replace them by mean of the respective column."
   ]
  },
  {
   "cell_type": "code",
   "execution_count": null,
   "metadata": {
    "_cell_guid": "26324159-605e-44fc-808a-529a88dc4335",
    "_uuid": "6c96bc432c716f888a2dff18d3a5b10e21a3be9a",
    "collapsed": true
   },
   "outputs": [],
   "source": [
    "# Nominal features\n",
    "# Replacement using majority class\n",
    "# majority class in case of JOB variable is Other\n",
    "# majority class in case of REASON varibale is DebtCon\n",
    "\n",
    "df[\"REASON\"].fillna(value = \"DebtCon\",inplace = True)\n",
    "df[\"JOB\"].fillna(value = \"Other\",inplace = True)"
   ]
  },
  {
   "cell_type": "code",
   "execution_count": null,
   "metadata": {
    "_cell_guid": "2992da60-7992-4c8b-94c1-86497dec98af",
    "_uuid": "45ad614eaac15cfad47fe539de7c2f57e1b61ad0",
    "collapsed": true
   },
   "outputs": [],
   "source": [
    "df[\"DEROG\"].fillna(value=0,inplace=True)\n",
    "df[\"DELINQ\"].fillna(value=0,inplace=True)"
   ]
  },
  {
   "cell_type": "code",
   "execution_count": null,
   "metadata": {
    "_cell_guid": "0464267c-404e-4fad-81a9-9758133b2ecf",
    "_uuid": "7a141da0fc09f2b9058bf92db2920b7c6b609b6f",
    "collapsed": true
   },
   "outputs": [],
   "source": [
    "# Numeric features\n",
    "# Replacement using mean of each class\n",
    "\n",
    "df.fillna(value=df.mean(),inplace=True)"
   ]
  },
  {
   "cell_type": "code",
   "execution_count": null,
   "metadata": {
    "_cell_guid": "9786e0f4-bab5-4e9b-b827-a5b89622d8fc",
    "_uuid": "fde2d79626b44d001ce17a7cdac2a8faf713525b",
    "collapsed": true
   },
   "outputs": [],
   "source": [
    "df.isnull().sum()\n",
    "\n",
    "# Checking if there is anything left out\n",
    "# As you can see, all missing values are filled"
   ]
  },
  {
   "cell_type": "markdown",
   "metadata": {
    "_cell_guid": "5cbb27b9-d940-4297-8ca9-e94e0a427d08",
    "_uuid": "81fdd8360290e233ed4f43c94bd45048b441c1e2"
   },
   "source": [
    "##### Final look at the data after filling the missing values"
   ]
  },
  {
   "cell_type": "code",
   "execution_count": null,
   "metadata": {
    "_cell_guid": "6b9621a7-513f-42fa-83bd-04619fe1b831",
    "_uuid": "e4f79c1eea50ca2a73cb8379af27bbd3839d2324",
    "collapsed": true,
    "scrolled": true
   },
   "outputs": [],
   "source": [
    "df.head()"
   ]
  },
  {
   "cell_type": "markdown",
   "metadata": {
    "_cell_guid": "7ea93d14-285f-4c11-9e66-93ecf83934cd",
    "_uuid": "8994a697b848e26025909e5ff3d82effe73575ae"
   },
   "source": [
    "# Applying the models on the data after imputation\n",
    "- Applying the basic Classification on the data after replacement/imputation.Lets check the performnace by applying both Logistic Regression and Decision tree algorithms.\n",
    "- Before applying the algorithms, The data is split into training and testing sets in the ratio 2:1 that is test data 33% and train data 67%.\n",
    "- And also taking all the columns except JOB,REASON as input features(as they are nominal features, they must be transformed to other variables to be usable which is taken care of in next section)."
   ]
  },
  {
   "cell_type": "code",
   "execution_count": null,
   "metadata": {
    "_cell_guid": "ea11d909-3809-41d9-976d-c56b3bf07eda",
    "_uuid": "cc0dd44832f644d6f8cca371d60ec76e4c48282e",
    "collapsed": true
   },
   "outputs": [],
   "source": [
    "# importing the required modules\n",
    "from sklearn.model_selection import train_test_split\n",
    "from sklearn.linear_model import LogisticRegression\n",
    "\n",
    "# removing the features BAD,JOB,REASON from the input features set\n",
    "x_basic = df.drop(columns=[\"BAD\",\"JOB\",\"REASON\"])\n",
    "y = df[\"BAD\"]\n",
    "\n",
    "# Spliting the data into test and train sets\n",
    "x_basic_tr,x_basic_te,y_tr,y_te = train_test_split(x_basic,y,test_size =.33,random_state=1)\n",
    "logreg_basic = LogisticRegression()\n",
    "\n",
    "# Training the basic logistic regression model with training set \n",
    "logreg_basic.fit(x_basic_tr,y_tr)\n",
    "\n",
    "# Printing the coefficients\n",
    "print(\"intercept \")\n",
    "print(logreg_basic.intercept_)\n",
    "print(\"\")\n",
    "print(\"coefficients \")\n",
    "print(logreg_basic.coef_)\n",
    "\n",
    "# Predicting the output of the test cases using the algorithm created above\n",
    "y_pre = logreg_basic.predict(x_basic_te)\n",
    "\n",
    "# Validating the algorithm using various Performance metrics\n",
    "from sklearn.metrics import accuracy_score, f1_score, precision_score, recall_score\n",
    "print(\"\")\n",
    "a1 = accuracy_score(y_te,y_pre)\n",
    "f1 = f1_score(y_te, y_pre, average=\"macro\")\n",
    "p1 = precision_score(y_te, y_pre, average=\"macro\")\n",
    "r1 = recall_score(y_te, y_pre, average=\"macro\")\n",
    "print(\"accuracy score : \",a1)\n",
    "print(\"f1 score : \",f1)\n",
    "print(\"precision score : \",p1)\n",
    "print(\"recall score : \",r1)"
   ]
  },
  {
   "cell_type": "code",
   "execution_count": null,
   "metadata": {
    "_cell_guid": "96aec278-9752-45f3-871d-1e353d648c5a",
    "_uuid": "e95830fc807b428670c1a9f01a348b6485a34c06",
    "collapsed": true
   },
   "outputs": [],
   "source": [
    "def plot_confusion_matrix(cm, classes,\n",
    "                          normalize=False,\n",
    "                          title='Confusion matrix',\n",
    "                          cmap=plt.cm.Blues):\n",
    "    \"\"\"\n",
    "    This function prints and plots the confusion matrix.\n",
    "    Normalization can be applied by setting `normalize=True`.\n",
    "    \"\"\"\n",
    "    if normalize:\n",
    "        cm = cm.astype('float') / cm.sum(axis=1)[:, np.newaxis]\n",
    "        print(\"Normalized confusion matrix\")\n",
    "    else:\n",
    "        print('Confusion matrix, without normalization')\n",
    "\n",
    "    print(cm)\n",
    "\n",
    "    plt.imshow(cm, interpolation='nearest', cmap=cmap)\n",
    "    plt.title(title)\n",
    "    plt.colorbar()\n",
    "    tick_marks = np.arange(len(classes))\n",
    "    plt.xticks(tick_marks, classes, rotation=45)\n",
    "    plt.yticks(tick_marks, classes)\n",
    "\n",
    "    fmt = '.2f' if normalize else 'd'\n",
    "    thresh = cm.max() / 2.\n",
    "    for i, j in itertools.product(range(cm.shape[0]), range(cm.shape[1])):\n",
    "        plt.text(j, i, format(cm[i, j], fmt),\n",
    "                 horizontalalignment=\"center\",\n",
    "                 color=\"white\" if cm[i, j] > thresh else \"black\")\n",
    "\n",
    "    plt.tight_layout()\n",
    "    plt.ylabel('True label')\n",
    "    plt.xlabel('Predicted label')"
   ]
  },
  {
   "cell_type": "code",
   "execution_count": null,
   "metadata": {
    "_cell_guid": "4f9c8467-8096-4314-94d2-fa1c67b95482",
    "_uuid": "969fdbb3a1ab5a52b3926e05341b3fc38f530864",
    "collapsed": true
   },
   "outputs": [],
   "source": [
    "# Computing Confusion matrix for the above algorithm\n",
    "\n",
    "cnf_matrix = confusion_matrix(y_te, y_pre)\n",
    "np.set_printoptions(precision=2)\n",
    "\n",
    "# Plot non-normalized confusion matrix\n",
    "plt.figure()\n",
    "plot_confusion_matrix(cnf_matrix, classes=[\"BAD\"],\n",
    "                      title='Confusion matrix - Logistic Regression Algorithm')\n",
    "\n",
    "plt.show()"
   ]
  },
  {
   "cell_type": "code",
   "execution_count": null,
   "metadata": {
    "_cell_guid": "f2fec8c4-6557-4713-8b93-989a4818e7b2",
    "_uuid": "05020ed83965d68f851b49b88ee5dfa836cda1fd",
    "collapsed": true
   },
   "outputs": [],
   "source": [
    "# importing the required modules\n",
    "from sklearn.model_selection import train_test_split\n",
    "from sklearn.tree import DecisionTreeClassifier\n",
    "\n",
    "dectree_basic = DecisionTreeClassifier()\n",
    "dectree_basic.max_depth = 100\n",
    "# Training the basic Decision Tree model with training set \n",
    "dectree_basic.fit(x_basic_tr,y_tr)\n",
    "\n",
    "# Predicting the output of the test cases using the algorithm created above\n",
    "y_pre = dectree_basic.predict(x_basic_te)\n",
    "\n",
    "# Validating the algorithm using various Performance metrics\n",
    "\n",
    "a2 = accuracy_score(y_te,y_pre)\n",
    "f2 = f1_score(y_te, y_pre, average=\"macro\")\n",
    "p2 = precision_score(y_te, y_pre, average=\"macro\")\n",
    "r2 = recall_score(y_te, y_pre, average=\"macro\")\n",
    "print(\"accuracy score : \",a2)\n",
    "print(\"f1 score : \",f2)\n",
    "print(\"precision score : \",p2)\n",
    "print(\"recall score : \",r2)\n",
    "\n",
    "# Computing Confusion matrix for the above algorithm\n",
    "\n",
    "cnf_matrix = confusion_matrix(y_te, y_pre)\n",
    "np.set_printoptions(precision=2)\n",
    "\n",
    "# Plot non-normalized confusion matrix\n",
    "plt.figure()\n",
    "plot_confusion_matrix(cnf_matrix, classes=[\"BAD\"],\n",
    "                      title='Confusion matrix,Decision Tree Algorithm')\n",
    "\n",
    "plt.show()"
   ]
  },
  {
   "cell_type": "markdown",
   "metadata": {
    "_cell_guid": "edd08b3e-cf0e-4375-8f57-4b58ec0c0249",
    "_uuid": "16e5e3fa4166071dcaddc566c3b6c9c01f71f93e"
   },
   "source": [
    "\n",
    "\n",
    "\n",
    "#### Some discussion on Performance metrics :\n",
    "- Generally Accuracy test can be used to evaluate algorithms. But in this case,just using the MAJORITY CLASS(0) to predict the output will give high(79.2%) accuracy.BUT WE WOULD END UP PREDICTING ALL \"1\" AS O's INSTEAD.\n",
    "<br>\n",
    "- Hence other performance metrics must be used to evaluate the model.And those would be\n",
    "    - F1 score : Weighted mean of Recall and Precision\n",
    "    - Recall : (TP/TP+FN)\n",
    "    - Precision : (TP/TP+FP)\n",
    "      TP is true positive,FN is false negative,FP is false positive\n",
    "<br>\n",
    "- Here we want to decrease the number of False Negatives i.e, We predict that credit will be repaid but it actually being a fraudant one.To decrease FN implies to increase Recall.Therefore, RECALL will the perfect Performance metric to evaluate this model.\n",
    "<br>\n",
    "- Precsion may decrease in the process to increase recall but it is okay to predict some extra False Positives.\n",
    "##### We can also RESAMPLE the data(We will get back to this at the end).\n",
    "\n",
    "#### Conclusions :\n",
    "\n",
    "- Using Logistic Regression though Accuracy is good(79%), the model did not perform well on other performance metrics.Recal is just above .5 and this is not good.This may be due to overfitting and we will try to remove this in the next section.\n",
    "<br>\n",
    "- Surprisingly,Decision Tree algorithm worked very well compared to Logistic Regression with a RECALL of about .78 and very good ACCURACY.This is beacause this model implicitly performs variable selection/feature selection by spliting the top nodes based on the most important features of the data and feature selection is done automatically.\n",
    "<br>\n",
    "- Finally what I want say that is :\n",
    "    - There will be a good improvement in Logistic Regression model after Feature Selection.\n",
    "    - The results will almost stay same in the case of Decision Tree model even after Feature Selection.\n",
    "<br>\n",
    "- We will prove the above hypothesis by creating models with selected features and compare them will the above models."
   ]
  },
  {
   "cell_type": "markdown",
   "metadata": {
    "_cell_guid": "e6b54a62-55ef-419b-b17c-67151897fa37",
    "_uuid": "c4a581741b6bc611b1b6480aa980f25b0fc893b6"
   },
   "source": [
    "# Feature transformation"
   ]
  },
  {
   "cell_type": "markdown",
   "metadata": {
    "_cell_guid": "ceb3eeca-2f36-458b-993f-0a912a458c14",
    "_uuid": "8836ea917290833b5a736b0736b84b2c32971688"
   },
   "source": [
    "- Before Feature selection,As discussed in the section \"Distribution of various Features\" we need to transform some variables in order to improve predictability.\n",
    "- We have transform the whole data set not just training set."
   ]
  },
  {
   "cell_type": "code",
   "execution_count": null,
   "metadata": {
    "_cell_guid": "36ab1024-abb9-4e80-b882-0ea74445eb0c",
    "_uuid": "3d5da69101dd67bc44d59815b9b7d9080269472b",
    "collapsed": true
   },
   "outputs": [],
   "source": [
    "# Capping off the features CLAGE(values >= 600 to 600) , VALUE(values>=400000 to 400000) , MORTDUE(values>=300000 to 300000) and DEBTINC(values >=100 to 100)\n",
    "\n",
    "df.loc[df[\"CLAGE\"]>=600,\"CLAGE\"] = 600\n",
    "df.loc[df[\"VALUE\"]>=400000,\"VALUE\"] = 400000\n",
    "df.loc[df[\"MORTDUE\"]>=300000,\"MORTDUE\"] = 300000\n",
    "df.loc[df[\"DEBTINC\"]>=100,\"DEBTINC\"] = 100"
   ]
  },
  {
   "cell_type": "code",
   "execution_count": null,
   "metadata": {
    "_cell_guid": "8ad43938-bce6-418f-bc28-d09c3b2ded0a",
    "_uuid": "5be8897ef20883ae16d3f301bfa3126e102051d7",
    "collapsed": true,
    "scrolled": true
   },
   "outputs": [],
   "source": [
    "# Creating new binary vaiables B_DEROG,B_DELINQ from DEROG,DELINQ\n",
    "\n",
    "df[\"B_DEROG\"] = (df[\"DEROG\"]>=1)*1\n",
    "df[\"B_DELINQ\"] = (df[\"DELINQ\"]>=1)*1"
   ]
  },
  {
   "cell_type": "code",
   "execution_count": null,
   "metadata": {
    "_cell_guid": "694735d3-cee0-4299-9e1c-51b195408a78",
    "_uuid": "b434748c72638d2f6150f00008ae0f62f36617fb",
    "collapsed": true
   },
   "outputs": [],
   "source": [
    "df[\"JOB\"].unique()"
   ]
  },
  {
   "cell_type": "code",
   "execution_count": null,
   "metadata": {
    "_cell_guid": "2e6b4f84-82ae-4933-9e33-01261a788ecd",
    "_uuid": "17bc57d6530e1eb8f15dfe767315a9bc46775b6c",
    "collapsed": true
   },
   "outputs": [],
   "source": [
    "# We need to conert the nominal features JOB and REASON into usable form and remove them from the data table\n",
    "\n",
    "df[\"REASON_1\"] = (df[\"REASON\"] == \"HomeImp\")*1\n",
    "df[\"REASON_2\"] = (df[\"REASON\"] != \"HomeImp\")*1\n",
    "df[\"JOB_1\"] = (df[\"JOB\"]==\"Other\")*1\n",
    "df[\"JOB_2\"] = (df[\"JOB\"]==\"Office\")*1\n",
    "df[\"JOB_3\"] = (df[\"JOB\"]==\"Sales\")*1\n",
    "df[\"JOB_4\"] = (df[\"JOB\"]==\"Mgr\")*1\n",
    "df[\"JOB_5\"] = (df[\"JOB\"]==\"ProfExe\")*1\n",
    "df[\"JOB_6\"] = (df[\"JOB\"]==\"Self\")*1\n",
    "df.drop([\"JOB\",\"REASON\"],axis = 1,inplace = True)\n",
    "\n",
    "# The above assignment creates new features for each JOB and each REASON"
   ]
  },
  {
   "cell_type": "code",
   "execution_count": null,
   "metadata": {
    "_cell_guid": "2027323b-929c-4370-b617-acf1892e1957",
    "_uuid": "30cc8baf6d5644499872551150cceb575224e795",
    "collapsed": true
   },
   "outputs": [],
   "source": [
    "# We need to decrease the skewness of the feature YOJ,For that we can apply log of YOJ but since some of them are 0, we will use log(YOJ+constant)\n",
    "\n",
    "df[\"YOJ\"] = df[\"YOJ\"].apply(lambda t : np.log(t+1))"
   ]
  },
  {
   "cell_type": "code",
   "execution_count": null,
   "metadata": {
    "_cell_guid": "c929b270-27aa-45db-a32d-e6914126dab1",
    "_uuid": "43d0b79844374cddd4e1e5f3e78825e00391c508",
    "collapsed": true,
    "scrolled": true
   },
   "outputs": [],
   "source": [
    "df.head()"
   ]
  },
  {
   "cell_type": "markdown",
   "metadata": {
    "_cell_guid": "3708713a-521d-46c0-a3ea-df142074ff52",
    "_uuid": "2f1ec7e61b694374dc0bca9eeffd3002864acc8e"
   },
   "source": [
    "# Feature selection"
   ]
  },
  {
   "cell_type": "markdown",
   "metadata": {
    "_cell_guid": "26dde5ef-ddcd-4200-9b94-7a858987e424",
    "_uuid": "45b1450f0294b4d3cdba4c18092da98546d1306c"
   },
   "source": [
    "- As we completed the transformation part, now we move on to Feature Selection.Now we will find out the most import features that are affecting the target variable \"BAD\" the most.\n",
    "- We will use the following for this purpose :\n",
    "    - Pearson correlation factor pearson\n",
    "    - chi square test\n",
    "    - f_regression\n",
    "    - f_classif "
   ]
  },
  {
   "cell_type": "markdown",
   "metadata": {
    "_cell_guid": "b1c1b77d-b2cc-44bb-a7e8-c41630d38366",
    "_uuid": "71111881a571b5f043ad44058cc35d24caf726c8"
   },
   "source": [
    "### Using Pearson Correlation factor for feature selection"
   ]
  },
  {
   "cell_type": "code",
   "execution_count": null,
   "metadata": {
    "_cell_guid": "f8f82cfb-4bfa-42aa-ae9c-99de79d332a6",
    "_uuid": "f483c388ba8f80f39dcfd31cf96303f0462a92a1",
    "collapsed": true,
    "scrolled": false
   },
   "outputs": [],
   "source": [
    "# Finding correlation between all the features and the target feature \"BAD\"\n",
    "\n",
    "df.corr(method='pearson')"
   ]
  },
  {
   "cell_type": "code",
   "execution_count": null,
   "metadata": {
    "_cell_guid": "19895063-f4ae-469a-acde-2a4de0a575e5",
    "_uuid": "bf131e30f1a12f158318b333f63f4181df51b732",
    "collapsed": true
   },
   "outputs": [],
   "source": [
    "# Gathering the 2 feature sets with high peason correlation value,one with 7 and other with 10 features in it\n",
    "\n",
    "feat1=[\"DEROG\",\"DELINQ\",\"CLAGE\",\"NINQ\",\"DEBTINC\",\"YOJ\",\"LOAN\"]\n",
    "#feat2=[\"DEROG\",\"DELINQ\",\"CLAGE\",\"NINQ\",\"DEBTINC\",\"LOAN\",\"JOB_2\",\"YOJ\",\"JOB_3\",\"MORTDUE\"]"
   ]
  },
  {
   "cell_type": "markdown",
   "metadata": {
    "_cell_guid": "e29aa3a9-6d9a-4772-be86-6aa8713d230f",
    "_uuid": "0981e04ce21d380238edc09f3c7c0a58b1a0e7a8"
   },
   "source": [
    "##### Now that we got the features with high correlation with the BAD feature, we will run the classification algorithms and compare them"
   ]
  },
  {
   "cell_type": "code",
   "execution_count": null,
   "metadata": {
    "_cell_guid": "2f8b04ef-d62a-4d98-8c44-dfad9749ed44",
    "_uuid": "baf5967ace7b12333d8fc74cd87251e29d03a02f",
    "collapsed": true
   },
   "outputs": [],
   "source": [
    "# Logistic Regression using above feature set 1\n",
    "\n",
    "x = df[feat1]\n",
    "y = df[\"BAD\"]\n",
    "x_tr,x_te,y_tr,y_te = train_test_split(x,y,test_size = 0.33,random_state=1)\n",
    "logreg = LogisticRegression()\n",
    "logreg.fit(x_tr,y_tr)\n",
    "y_pre = logreg.predict(x_te)\n",
    "a3 = accuracy_score(y_te,y_pre)\n",
    "f3 = f1_score(y_te, y_pre, average=\"macro\")\n",
    "p3 = precision_score(y_te, y_pre, average=\"macro\")\n",
    "r3 = recall_score(y_te, y_pre, average=\"macro\")\n",
    "print(\"accuracy score : \",a3)\n",
    "print(\"f1 score : \",f3)\n",
    "print(\"precision score : \",p3)\n",
    "print(\"recall score : \",r3)\n",
    "\n",
    "# Computing Confusion matrix for the above algorithm\n",
    "\n",
    "cnf_matrix = confusion_matrix(y_te, y_pre)\n",
    "np.set_printoptions(precision=2)\n",
    "\n",
    "# Plot non-normalized confusion matrix\n",
    "plt.figure()\n",
    "plot_confusion_matrix(cnf_matrix, classes=[\"BAD\"],\n",
    "title='Confusion matrix - Logistic Regression Algorithm with pearson corr_f')\n",
    "\n",
    "plt.show()"
   ]
  },
  {
   "cell_type": "code",
   "execution_count": null,
   "metadata": {
    "_cell_guid": "61ec51fa-6a4a-4b8b-b85e-a5db149246f6",
    "_uuid": "1205acdde8fffe7dad8a960d9b6110eb2eb79473",
    "collapsed": true
   },
   "outputs": [],
   "source": [
    "# Decision Tree classifier using feat1\n",
    "\n",
    "clf_tree=DecisionTreeClassifier()\n",
    "clf_tree.max_depth = 100\n",
    "clf_tree.fit(x_tr,y_tr)\n",
    "y_pre = clf_tree.predict(x_te)\n",
    "a4 = accuracy_score(y_te,y_pre)\n",
    "f4 = f1_score(y_te, y_pre, average=\"macro\")\n",
    "p4 = precision_score(y_te, y_pre, average=\"macro\")\n",
    "r4 = recall_score(y_te, y_pre, average=\"macro\")\n",
    "print(\"accuracy score : \",a4)\n",
    "print(\"f1 score : \",f4)\n",
    "print(\"precision score : \",p4)\n",
    "print(\"recall score : \",r4)\n",
    "print(\"\")\n",
    "# Computing Confusion matrix for the above algorithm\n",
    "\n",
    "cnf_matrix = confusion_matrix(y_te, y_pre)\n",
    "np.set_printoptions(precision=2)\n",
    "\n",
    "# Plot non-normalized confusion matrix\n",
    "plt.figure()\n",
    "plot_confusion_matrix(cnf_matrix, classes=[\"BAD\"],\n",
    "title='Confusion matrix - Decision Tree Algorithm using pearson corr_f')\n",
    "\n",
    "plt.show()"
   ]
  },
  {
   "cell_type": "markdown",
   "metadata": {
    "_cell_guid": "c3590e63-71e2-4456-af83-3c9c94fa5f8e",
    "_uuid": "60de7f2d1a75afff8390a7da1f5e7d4e29daf38a"
   },
   "source": [
    "### Using chi2 test for feature selection"
   ]
  },
  {
   "cell_type": "code",
   "execution_count": null,
   "metadata": {
    "_cell_guid": "c34ea72c-7816-49b4-8ddc-13a814494447",
    "_uuid": "8ed5c9e339b4163f8e94a833177ec6830e9772a7",
    "collapsed": true
   },
   "outputs": [],
   "source": [
    "# Finding the best 10 features using chi2 test\n",
    "\n",
    "from sklearn.feature_selection import chi2\n",
    "from sklearn.feature_selection import SelectKBest\n",
    "df_new = pd.DataFrame(SelectKBest(chi2, k=10).fit_transform(df.drop([\"BAD\"],axis = 1),df[\"BAD\"]))"
   ]
  },
  {
   "cell_type": "code",
   "execution_count": null,
   "metadata": {
    "_cell_guid": "132a03f7-29ae-4454-b468-8e7f0c2e8a24",
    "_uuid": "30cbb0ea67c74734e5fcbe8497f744896242ca30",
    "collapsed": true
   },
   "outputs": [],
   "source": [
    "# dataframe containing the selected features\n",
    "\n",
    "df_new.head()"
   ]
  },
  {
   "cell_type": "code",
   "execution_count": null,
   "metadata": {
    "_cell_guid": "3d2984b2-b8a0-4c7e-b9f2-0405307dee0e",
    "_uuid": "0f94ca7e902533b8e8e74e1369b0184c39852a67",
    "collapsed": true
   },
   "outputs": [],
   "source": [
    "# Running the logistic regression algorithm using the features selected from chi2 test\n",
    "\n",
    "x = df_new\n",
    "y = df[\"BAD\"]\n",
    "x_tr,x_te,y_tr,y_te = train_test_split(x,y,test_size = .33,random_state=1)\n",
    "logreg = LogisticRegression()\n",
    "logreg.fit(x_tr,y_tr)\n",
    "y_pre = logreg.predict(x_te)\n",
    "y_pre = logreg.predict(x_te)\n",
    "a5 = accuracy_score(y_te,y_pre)\n",
    "f5 = f1_score(y_te, y_pre, average=\"macro\")\n",
    "p5 = precision_score(y_te, y_pre, average=\"macro\")\n",
    "r5 = recall_score(y_te, y_pre, average=\"macro\")\n",
    "print(\"accuracy score : \",a5)\n",
    "print(\"f1 score : \",f5)\n",
    "print(\"precision score : \",p5)\n",
    "print(\"recall score : \",r5)\n",
    "\n",
    "# Computing Confusion matrix for the above algorithm\n",
    "\n",
    "cnf_matrix = confusion_matrix(y_te, y_pre)\n",
    "np.set_printoptions(precision=2)\n",
    "\n",
    "# Plot non-normalized confusion matrix\n",
    "plt.figure()\n",
    "plot_confusion_matrix(cnf_matrix, classes=[\"BAD\"],\n",
    " title='Confusion matrix - Logistic Regression Algorithm with chi2 test')\n",
    "\n",
    "plt.show()\n"
   ]
  },
  {
   "cell_type": "code",
   "execution_count": null,
   "metadata": {
    "_cell_guid": "32b94f00-091f-4266-9202-0e5cc54f524f",
    "_uuid": "b2dd548c78c88d9511d519d673e00b8bfe1b03c2",
    "collapsed": true
   },
   "outputs": [],
   "source": [
    "# Decision Tree classifier using features from chi2 test\n",
    "\n",
    "clf_tree=DecisionTreeClassifier()\n",
    "clf_tree.max_depth = 100\n",
    "clf_tree.fit(x_tr,y_tr)\n",
    "y_pre = clf_tree.predict(x_te)\n",
    "a6 = accuracy_score(y_te,y_pre)\n",
    "f6 = f1_score(y_te, y_pre, average=\"macro\")\n",
    "p6 = precision_score(y_te, y_pre, average=\"macro\")\n",
    "r6 = recall_score(y_te, y_pre, average=\"macro\")\n",
    "print(\"accuracy score : \",a6)\n",
    "print(\"f1 score : \",f6)\n",
    "print(\"precision score : \",p6)\n",
    "print(\"recall score : \",r6)\n",
    "# Computing Confusion matrix for the above algorithm\n",
    "\n",
    "cnf_matrix = confusion_matrix(y_te, y_pre)\n",
    "np.set_printoptions(precision=2)\n",
    "\n",
    "# Plot non-normalized confusion matrix\n",
    "plt.figure()\n",
    "plot_confusion_matrix(cnf_matrix, classes=[\"BAD\"],\n",
    "title='Confusion matrix - Decision Tree Algorithm using chi2 test for feature selection')\n",
    "\n",
    "plt.show()"
   ]
  },
  {
   "cell_type": "code",
   "execution_count": null,
   "metadata": {
    "_cell_guid": "6064ac33-5b3f-49de-bd25-4484c73c2ccf",
    "_uuid": "929218b8f5d12c215bc6d390b47cb4c15f773d4e",
    "collapsed": true,
    "scrolled": true
   },
   "outputs": [],
   "source": [
    "df.head()"
   ]
  },
  {
   "cell_type": "markdown",
   "metadata": {
    "_cell_guid": "792ba618-e433-4889-89e2-9350443cee25",
    "_uuid": "3073b1747d980b062e5df6ac393e964e00df99e4"
   },
   "source": [
    "### Using f_classif for feature selection"
   ]
  },
  {
   "cell_type": "code",
   "execution_count": null,
   "metadata": {
    "_cell_guid": "9758103e-8cb4-4853-a2ab-1dd4556b5bbc",
    "_uuid": "d7ea238d04a21286a2eb276a0aec44a520b7b451",
    "collapsed": true
   },
   "outputs": [],
   "source": [
    "from sklearn.feature_selection import f_classif\n",
    "\n",
    "df_new2 = pd.DataFrame(SelectKBest(f_classif, k=10).fit_transform(df.drop([\"BAD\"],axis=1),df[\"BAD\"]))\n",
    "df_new2.head()"
   ]
  },
  {
   "cell_type": "code",
   "execution_count": null,
   "metadata": {
    "_cell_guid": "f69d2634-9d0b-4803-b97c-f327a607d799",
    "_uuid": "6435bfb5d0f10d7ea3260918bd015959a3958a60",
    "collapsed": true
   },
   "outputs": [],
   "source": [
    "# Running the logistic regression algorithm using the features selected from f_classif test\n",
    "\n",
    "x = df_new2\n",
    "y = df[\"BAD\"]\n",
    "x_tr,x_te,y_tr,y_te = train_test_split(x,y,test_size = .33,random_state=1)\n",
    "logreg = LogisticRegression()\n",
    "logreg.fit(x_tr,y_tr)\n",
    "y_pre = logreg.predict(x_te)\n",
    "a7 = accuracy_score(y_te,y_pre)\n",
    "f7 = f1_score(y_te, y_pre, average=\"macro\")\n",
    "p7 = precision_score(y_te, y_pre, average=\"macro\")\n",
    "r7 = recall_score(y_te, y_pre, average=\"macro\")\n",
    "print(\"accuracy score : \",a7)\n",
    "print(\"f1 score : \",f7)\n",
    "print(\"precision score : \",p7)\n",
    "print(\"recall score : \",r7)\n",
    "\n",
    "# Computing Confusion matrix for the above algorithm\n",
    "\n",
    "cnf_matrix = confusion_matrix(y_te, y_pre)\n",
    "np.set_printoptions(precision=2)\n",
    "\n",
    "# Plot non-normalized confusion matrix\n",
    "plt.figure()\n",
    "plot_confusion_matrix(cnf_matrix, classes=[\"BAD\"],\n",
    "title='Confusion matrix - Logistic Regression Algorithm with f_classif')\n",
    "\n",
    "plt.show()"
   ]
  },
  {
   "cell_type": "code",
   "execution_count": null,
   "metadata": {
    "_cell_guid": "e2697ec7-8e67-47b7-92c4-5ca589f2a031",
    "_uuid": "1dc5f10361b9853ffa8c7c4da595c6c36361df30",
    "collapsed": true
   },
   "outputs": [],
   "source": [
    "# Decision Tree classifier using features from f_classif test\n",
    "\n",
    "clf_tree=DecisionTreeClassifier()\n",
    "clf_tree.max_depth = 100\n",
    "clf_tree.fit(x_tr,y_tr)\n",
    "y_pre = clf_tree.predict(x_te)\n",
    "a8 = accuracy_score(y_te,y_pre)\n",
    "f8 = f1_score(y_te, y_pre, average=\"macro\")\n",
    "p8 = precision_score(y_te, y_pre, average=\"macro\")\n",
    "r8 = recall_score(y_te, y_pre, average=\"macro\")\n",
    "print(\"accuracy score : \",a8)\n",
    "print(\"f1 score : \",f8)\n",
    "print(\"precision score : \",p8)\n",
    "print(\"recall score : \",r8)\n",
    "# Computing Confusion matrix for the above algorithm\n",
    "\n",
    "cnf_matrix = confusion_matrix(y_te, y_pre)\n",
    "np.set_printoptions(precision=2)\n",
    "\n",
    "# Plot non-normalized confusion matrix\n",
    "plt.figure()\n",
    "plot_confusion_matrix(cnf_matrix, classes=[\"BAD\"],\n",
    "                      title='Confusion matrix - Decision Tree Algorithm using f_classif feature selector')\n",
    "\n",
    "plt.show()"
   ]
  },
  {
   "cell_type": "markdown",
   "metadata": {
    "_cell_guid": "aa62c59c-fd07-49d3-96da-57a683557b5d",
    "_uuid": "bbdfbe22b786b4bc55e93d73f4d9d466c7ce8bd5"
   },
   "source": [
    "#### To view the decision tree created - "
   ]
  },
  {
   "cell_type": "code",
   "execution_count": null,
   "metadata": {
    "_cell_guid": "6237aef7-1be7-4f1a-bdb7-93b54c9cfe61",
    "_uuid": "93e539ac55e58add89d4ac2d28e3d434b4c86dd3",
    "collapsed": true,
    "scrolled": true
   },
   "outputs": [],
   "source": [
    "from sklearn import tree\n",
    "import graphviz \n",
    "dot_dat = tree.export_graphviz(clf_tree, out_file=None) \n",
    "graph = graphviz.Source(dot_dat) \n",
    "graph"
   ]
  },
  {
   "cell_type": "markdown",
   "metadata": {
    "_cell_guid": "8ca2cbab-5e43-4ee2-8097-1f4dae322347",
    "_uuid": "65da3474956c203308946fa3db35712cb2aba9d2"
   },
   "source": [
    "### Using f_regression for feature selection"
   ]
  },
  {
   "cell_type": "code",
   "execution_count": null,
   "metadata": {
    "_cell_guid": "523ffad4-e093-4eff-a40f-79441238f7d1",
    "_uuid": "47aed7ca48dd5f8d87ac9d160f66515d0a144117",
    "collapsed": true
   },
   "outputs": [],
   "source": [
    "from sklearn.feature_selection import f_regression\n",
    "\n",
    "df_new3 = pd.DataFrame(SelectKBest(f_regression, k=10).fit_transform(df.drop([\"BAD\"],axis=1),df[\"BAD\"]))\n",
    "df_new3.head()"
   ]
  },
  {
   "cell_type": "code",
   "execution_count": null,
   "metadata": {
    "_cell_guid": "6f123f91-b82c-40a2-b28f-c07f523f990b",
    "_uuid": "2aefb2e4c7477d95c51a0c395c0b40b243e49c56",
    "collapsed": true
   },
   "outputs": [],
   "source": [
    "# Running the logistic regression algorithm using the features selected from f_regression test\n",
    "\n",
    "x = df_new3\n",
    "y = df[\"BAD\"]\n",
    "x_tr,x_te,y_tr,y_te = train_test_split(x,y,test_size = .33,random_state=1)\n",
    "logreg = LogisticRegression()\n",
    "logreg.fit(x_tr,y_tr)\n",
    "y_pre2 = logreg.predict(x_te)\n",
    "a9 = accuracy_score(y_te,y_pre2)\n",
    "f9 = f1_score(y_te, y_pre2, average=\"macro\")\n",
    "p9 = precision_score(y_te, y_pre2, average=\"macro\")\n",
    "r9 = recall_score(y_te, y_pre2, average=\"macro\")\n",
    "print(\"accuracy score : \",a9)\n",
    "print(\"f1 score : \",f9)\n",
    "print(\"precision score : \",p9)\n",
    "print(\"recall score : \",r9)\n",
    "\n",
    "# Computing Confusion matrix for the above algorithm\n",
    "\n",
    "cnf_matrix = confusion_matrix(y_te, y_pre)\n",
    "np.set_printoptions(precision=2)\n",
    "\n",
    "# Plot non-normalized confusion matrix\n",
    "plt.figure()\n",
    "plot_confusion_matrix(cnf_matrix, classes=[\"BAD\"],\n",
    "                      title='Confusion matrix - Logistic Regression Algorithm with f_regression')\n",
    "\n",
    "plt.show()"
   ]
  },
  {
   "cell_type": "code",
   "execution_count": null,
   "metadata": {
    "_cell_guid": "572efbf5-0f80-42b2-9d20-5a1cc42dffbb",
    "_uuid": "4bcd6823b795890db20fe43f2cab4958fcd6b22b",
    "collapsed": true
   },
   "outputs": [],
   "source": [
    "# Decision Tree classifier using features from f_regression test\n",
    "\n",
    "clf_tree=DecisionTreeClassifier()\n",
    "clf_tree.max_depth = 100\n",
    "clf_tree.fit(x_tr,y_tr)\n",
    "y_pre = clf_tree.predict(x_te)\n",
    "a10 = accuracy_score(y_te,y_pre)\n",
    "f10 = f1_score(y_te, y_pre, average=\"macro\")\n",
    "p10= precision_score(y_te, y_pre, average=\"macro\")\n",
    "r10 = recall_score(y_te, y_pre, average=\"macro\")\n",
    "print(\"accuracy score : \",a10)\n",
    "print(\"f1 score : \",f10)\n",
    "print(\"precision score : \",p10)\n",
    "print(\"recall score : \",r10)\n",
    "\n",
    "# Computing Confusion matrix for the above algorithm\n",
    "\n",
    "cnf_matrix = confusion_matrix(y_te, y_pre)\n",
    "np.set_printoptions(precision=2)\n",
    "\n",
    "# Plot non-normalized confusion matrix\n",
    "plt.figure()\n",
    "plot_confusion_matrix(cnf_matrix, classes=[\"BAD\"], \n",
    "                      title='Confusion matrix - Decision Tree Algorithm using f_regression feature selector')\n",
    "\n",
    "plt.show()"
   ]
  },
  {
   "cell_type": "markdown",
   "metadata": {
    "_cell_guid": "c803b868-09e7-444c-b17f-9989ffc276f7",
    "_uuid": "1992f79d5068e067c56d0ce5c85476f653f9cc02"
   },
   "source": [
    "# Comparing all the models\n",
    " - We can now rank our evaluation of all the models to choose the best one for our problem. "
   ]
  },
  {
   "cell_type": "code",
   "execution_count": null,
   "metadata": {
    "_cell_guid": "530205f6-8b39-479f-b183-cee433663712",
    "_uuid": "81f495d6791f56287bc451c684c6b99d11e21069",
    "collapsed": true
   },
   "outputs": [],
   "source": [
    "models = pd.DataFrame({\n",
    "    'Model': ['Logistic Regression', 'Decision Tree','Logistic Regression', 'Decision Tree','Logistic Regression', 'Decision Tree','Logistic Regression', 'Decision Tree','Logistic Regression', 'Decision Tree'],\n",
    "    'Feature Selection Method' : ['None','None','Pearson corr_fact','Pearson corr_fact','chi2 test','chi2 test','f_classif','f_classif','f_regression','f_regression'],\n",
    "    'Accuracy Score': [a1,a2,a3,a4,a5,a6,a7,a8,a9,a10],\n",
    "    'Recall Score' : [r1,r2,r3,r4,r5,r6,r7,r8,r9,r10],\n",
    "    'F1 Score' : [f1,f2,f3,f4,f5,f6,f7,f8,f9,f10],\n",
    "    'Precision Score' : [p1,p2,p3,p4,p5,p6,p7,p8,p9,p10]\n",
    "})"
   ]
  },
  {
   "cell_type": "code",
   "execution_count": null,
   "metadata": {
    "_cell_guid": "26da1ec0-0b25-4bae-a81c-0156182cfc72",
    "_uuid": "16890129db679d5188d852d3001e8c21c6818dc0",
    "collapsed": true,
    "scrolled": true
   },
   "outputs": [],
   "source": [
    "models"
   ]
  },
  {
   "cell_type": "code",
   "execution_count": null,
   "metadata": {
    "_cell_guid": "e6260371-d002-4cf5-8e82-3602df0db678",
    "_uuid": "6ac58d6dc804219e196b0509aa8ce3271b996b77",
    "collapsed": true
   },
   "outputs": [],
   "source": [
    "pd.pivot_table(models,index = [\"Feature Selection Method\",\"Model\"])"
   ]
  },
  {
   "cell_type": "markdown",
   "metadata": {
    "_cell_guid": "33606d7f-f296-4ba2-8f01-1f576245585a",
    "_uuid": "4882655efcec6d4fbcd34190660c63ca2289d677"
   },
   "source": [
    "# Discussion and Insights :\n",
    "- Logistic Regression produced results with a good accuracy but overall performance is not that good. \n",
    "<br>\n",
    "- Decision Tree dominated over Logistic Regression in all cases.\n",
    "<br>\n",
    "- As mentioned earlier, the performance of Decision tree remained almost the same from the start since it does feature selection inheritly.Also performance of Logistic Regression got better after feature selection process.\n",
    "<br>\n",
    "- Finally Decision Tree model with feature selector f_classf would be the best method to use because it has the Highest RECALL value\n",
    "<br>\n",
    "- The maximum depth of the decision tree is set to 100 in all cases hence number of levels is 101 in all cases.And since we did not set the minimum number of observations in the leaf will be 1 since it is classification problem.\n",
    "<br>\n",
    "- The threshold is defaultly set to .5 in Logistic Regression!\n",
    "<br>\n",
    "- Obviously,changing the threshold affects the performance of the model and this can be observed in the next section.\n",
    "<br>\n",
    "- This can be further extended by Resampling of the data to increase the RECALL score"
   ]
  },
  {
   "cell_type": "markdown",
   "metadata": {
    "_cell_guid": "3ed99cb8-2258-4842-9e65-ec16ef95e0ed",
    "_uuid": "ba88c91db0e53a81c627bb5df9c06cd39907d32d"
   },
   "source": [
    "#### Using decision tree with f_classif feature selector would give the best results!!"
   ]
  },
  {
   "cell_type": "markdown",
   "metadata": {
    "_cell_guid": "5f7c720c-202b-4247-815b-192b9e17385f",
    "_uuid": "80fb323ead1214bf185a83fbe2075b56a07a8a2a"
   },
   "source": [
    "# Changing the threshold and observing the performance :"
   ]
  },
  {
   "cell_type": "code",
   "execution_count": null,
   "metadata": {
    "_cell_guid": "74f0a685-ac0e-4f56-91d3-3e73c4ccbe3b",
    "_uuid": "ff77083edb731704047607e804a40f53969de468",
    "collapsed": true
   },
   "outputs": [],
   "source": [
    "lr = LogisticRegression()\n",
    "lr.fit(x_tr,y_tr)\n",
    "y_pred_proba = lr.predict_proba(x_te)\n",
    "\n",
    "thresholds = [0.1,0.2,0.3,0.4,0.5,0.6,0.7,0.8,0.9]\n",
    "\n",
    "plt.figure(figsize=(10,10))\n",
    "\n",
    "j = 1\n",
    "for i in thresholds:\n",
    "    y_test_predictions_high_recall = y_pred_proba[:,1] >= i\n",
    "    \n",
    "    plt.subplot(3,3,j)\n",
    "    j += 1\n",
    "    \n",
    "    # Compute confusion matrix\n",
    "    cnf_matrix = confusion_matrix(y_te,y_test_predictions_high_recall)\n",
    "    np.set_printoptions(precision=2)\n",
    "    rec1 = recall_score(y_te, y_test_predictions_high_recall)\n",
    "    acc= 1.0*(cnf_matrix[0,0]+cnf_matrix[1,1])/(cnf_matrix[0,0]+cnf_matrix[1,0]+cnf_matrix[1,1]+cnf_matrix[0,1])\n",
    "    print(\"Recall metric in the testing dataset: \",rec1)\n",
    "    print(\"Accuracy score for the testing dataset: \",acc)\n",
    "    # Plot non-normalized confusion matrix\n",
    "    class_names = [0,1]\n",
    "    plot_confusion_matrix(cnf_matrix\n",
    "                          , classes=class_names\n",
    "                          , title='Threshold >= %s'%i)\n",
    "    print(\"\")"
   ]
  },
  {
   "cell_type": "markdown",
   "metadata": {
    "_cell_guid": "5bfd2b43-09d3-4343-9404-bb91ec6accf7",
    "_uuid": "dd24805f2287c162416eb760b3eb13c602f3330a"
   },
   "source": [
    "#### Conclusion :\n",
    "- The values of recall and accuracy vary with the threshold selected.\n",
    "- Based on the required accuracy and recall values , one has to decide and select a threshold.\n",
    "- It is suggested to move on with the default threshold that is 0.5 in general cases.\n",
    "<br>\n",
    "------------------------------------------------------------------------------------------------------------------------------"
   ]
  },
  {
   "cell_type": "markdown",
   "metadata": {
    "_cell_guid": "7f3b0c9c-a7ba-4691-b096-8da08ed4307c",
    "_uuid": "bdeea1ee674c643be280462a9e7ddd6b11447faf"
   },
   "source": [
    "# More on this : Using RESAMPLING to increase the recall value"
   ]
  },
  {
   "cell_type": "markdown",
   "metadata": {
    "_cell_guid": "dff269cf-03d0-47c0-ae5a-419a1d71bf59",
    "_uuid": "3d874c1c796ecfe8f7dc92d0d0194b25f82b85a5"
   },
   "source": [
    "- As mentioned earlier, we can use Resampling to improve the performance of the learning algorithms.\n",
    "- In this method we are going to divide the data to have the target class ratio 1:1.\n",
    "- Essentially this is a method that will process the data to have an approximate 50-50 ratio.\n",
    "- There are 2 processesto do this, Under-Sampling and Over-Sampling. Here we are going to use UNDER-SAMPLING."
   ]
  },
  {
   "cell_type": "code",
   "execution_count": null,
   "metadata": {
    "_cell_guid": "6c367245-0412-4bb2-8f34-525abf88becc",
    "_uuid": "17cbc93260696a515c70daf1517b60a13bbce8f7",
    "collapsed": true
   },
   "outputs": [],
   "source": [
    "# getting length and indices of minority class.\n",
    "default_len = len(df[df[\"BAD\"]==1])\n",
    "default_indices = np.array(df[df[\"BAD\"]==1].index)\n",
    "\n",
    "# selecting the same number of elements from majority class randomly.\n",
    "good_indices = np.array(df[df[\"BAD\"]==0].index)\n",
    "rand_good_indices = np.random.choice(good_indices, default_len, replace = False)\n",
    "rand_good_indices = np.array(rand_good_indices)\n",
    "\n",
    "# combing the indices\n",
    "combined_indices = np.concatenate([rand_good_indices,default_indices])\n",
    "\n",
    "# getting the corresponding dataset with above indices.\n",
    "comb_df = df.iloc[combined_indices,:]\n",
    "comb_y = comb_df[\"BAD\"]"
   ]
  },
  {
   "cell_type": "code",
   "execution_count": null,
   "metadata": {
    "_cell_guid": "9d007658-a9f3-4fa9-8d14-0db32158a52d",
    "_uuid": "59518cf15e80002d77feff37a1db0cdebfed1f79",
    "collapsed": true
   },
   "outputs": [],
   "source": [
    "# using the f_classif feature selection method which produced good results in above cases\n",
    "\n",
    "from sklearn.feature_selection import f_classif\n",
    "\n",
    "comb_x = pd.DataFrame(SelectKBest(f_classif, k=10).fit_transform(comb_df.drop([\"BAD\"],axis=1),comb_df[\"BAD\"]))\n",
    "comb_x.head()"
   ]
  },
  {
   "cell_type": "code",
   "execution_count": null,
   "metadata": {
    "_cell_guid": "50b026b3-d3e3-4a7c-9b74-83f8f3e3c98e",
    "_uuid": "d0614b4e5ee55687f489c9201530a2265ca37d82",
    "collapsed": true
   },
   "outputs": [],
   "source": [
    "# spliting the data into train and test datasets\n",
    "\n",
    "x_trc,x_tec,y_trc,y_tec = train_test_split(comb_x,comb_y,test_size =.33,random_state=1000)"
   ]
  },
  {
   "cell_type": "code",
   "execution_count": null,
   "metadata": {
    "_cell_guid": "2d49e907-3a1a-4be0-a0b1-ffba33d8a344",
    "_uuid": "946a7ece9d5086f4aa61a4c5a0910ffefb76198e",
    "collapsed": true
   },
   "outputs": [],
   "source": [
    "# using Kfold scores to train the data since very less data is available\n",
    "\n",
    "from sklearn.cross_validation import KFold, cross_val_score\n",
    "\n",
    "lr = LogisticRegression()\n",
    "\n",
    "def printing_Kfold_scores(x_trc,y_trc):\n",
    "    fold = KFold(len(y_trc),4,shuffle=False) \n",
    "    for train,test in fold :  \n",
    "        x1 = x_trc.iloc[train,:]\n",
    "        y1 = y_trc.iloc[train]\n",
    "        x2 = x_trc.iloc[test,:]\n",
    "        y2 = y_trc.iloc[test]\n",
    "        lr.fit(x1,y1)\n",
    "        y_pred_undersample = lr.predict(x2)\n",
    "        recall_acc = recall_score(y2,y_pred_undersample)\n",
    "        print(recall_acc)  \n",
    "        \n",
    "printing_Kfold_scores(x_trc,y_trc)\n",
    "\n",
    "y_predr = lr.predict(x_tec)\n",
    "\n",
    "print(\"\")\n",
    "print('Accuracy Score = ',accuracy_score(y_tec,y_predr))\n",
    "print('F1 Score = ',f1_score(y_tec, y_predr, average=\"macro\"))\n",
    "print('Precision Score = ',precision_score(y_tec, y_predr, average=\"macro\"))\n",
    "print('Recall Score = ',recall_score(y_tec, y_predr, average=\"macro\"))\n",
    "print(\"\")\n",
    "cnf_matrix = confusion_matrix(y_tec, y_predr)\n",
    "np.set_printoptions(precision=2)\n",
    "\n",
    "# Plot non-normalized confusion matrix\n",
    "plt.figure()\n",
    "plot_confusion_matrix(cnf_matrix, classes=[\"BAD\"], \n",
    "                      title='Confusion matrix - Logistic Regression Algorithm after Resampling the data')\n",
    "\n",
    "plt.show()"
   ]
  },
  {
   "cell_type": "code",
   "execution_count": null,
   "metadata": {
    "_cell_guid": "b2127440-bbca-4ff2-b15d-deee272ad9cd",
    "_uuid": "e74e1806c1233a09ae43527d8b49bbbf675e8db0",
    "collapsed": true
   },
   "outputs": [],
   "source": [
    "lr = DecisionTreeClassifier()\n",
    "\n",
    "def printing_Kfold_scores(x_trc,y_trc):\n",
    "    \n",
    "    print(\"Decision Tree Algorithm\")\n",
    "    fold = KFold(len(y_trc),4,shuffle=False) \n",
    "    for train,test in fold :  \n",
    "        x1 = x_trc.iloc[train,:]\n",
    "        y1 = y_trc.iloc[train]\n",
    "        x2 = x_trc.iloc[test,:]\n",
    "        y2 = y_trc.iloc[test]\n",
    "        lr.fit(x1,y1)\n",
    "        y_pred_undersample = lr.predict(x2)\n",
    "        recall_acc = recall_score(y2,y_pred_undersample)\n",
    "        print(recall_acc)\n",
    "        \n",
    "printing_Kfold_scores(x_trc,y_trc)\n",
    "\n",
    "y_predr = lr.predict(x_tec)\n",
    "print(\"\")\n",
    "print('Accuracy Score = ',accuracy_score(y_tec,y_predr))\n",
    "print('F1 Score = ',f1_score(y_tec, y_predr, average=\"macro\"))\n",
    "print('Precision Score = ',precision_score(y_tec, y_predr, average=\"macro\"))\n",
    "print('Recall Score = ',recall_score(y_tec, y_predr, average=\"macro\"))\n",
    "print(\"\")\n",
    "\n",
    "cnf_matrix = confusion_matrix(y_tec, y_predr)\n",
    "np.set_printoptions(precision=2)\n",
    "\n",
    "# Plot non-normalized confusion matrix\n",
    "plt.figure()\n",
    "plot_confusion_matrix(cnf_matrix, classes=[\"BAD\"], \n",
    "                      title='Confusion matrix - Decision Tree Algorithm after Resampling the data')\n",
    "\n",
    "plt.show()"
   ]
  },
  {
   "cell_type": "markdown",
   "metadata": {
    "_cell_guid": "1c12b1aa-54d5-4ffe-88c8-dbcbb0d07ab4",
    "_uuid": "12f0677d01deb2a67ad3af5198456a9e717b108a"
   },
   "source": [
    "#### Conclusion :\n",
    "- As you can see that, Recall has INCREASED by about 5-7% in case of Logistic Regression by Resampling the data.This is a huge achievement !!\n",
    "<br>\n",
    "- In case of Decision Tree Algorithm, recall is more or less the same."
   ]
  },
  {
   "cell_type": "markdown",
   "metadata": {
    "_cell_guid": "a168f0a6-2a40-406a-9562-091b96c128ab",
    "_uuid": "79aefbf57a099da1a41e8cd87c7303a1117b94fd"
   },
   "source": []
  },
  {
   "cell_type": "code",
   "execution_count": null,
   "metadata": {
    "_cell_guid": "4adb7b4b-cb3b-4119-906c-4505eb623613",
    "_uuid": "da53192508e72b4e320167aad02c7f827dec4547",
    "collapsed": true
   },
   "outputs": [],
   "source": []
  }
 ],
 "metadata": {
  "kernelspec": {
   "display_name": "Python 3",
   "language": "python",
   "name": "python3"
  },
  "language_info": {
   "codemirror_mode": {
    "name": "ipython",
    "version": 3
   },
   "file_extension": ".py",
   "mimetype": "text/x-python",
   "name": "python",
   "nbconvert_exporter": "python",
   "pygments_lexer": "ipython3",
   "version": "3.6.6"
  }
 },
 "nbformat": 4,
 "nbformat_minor": 1
}
